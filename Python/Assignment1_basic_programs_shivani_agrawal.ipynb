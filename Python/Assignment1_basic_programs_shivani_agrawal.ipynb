{
 "cells": [
  {
   "cell_type": "markdown",
   "metadata": {},
   "source": [
    "# Python Basics Program"
   ]
  },
  {
   "cell_type": "markdown",
   "metadata": {},
   "source": [
    "1)Print Hello world!"
   ]
  },
  {
   "cell_type": "code",
   "execution_count": 1,
   "metadata": {},
   "outputs": [
    {
     "name": "stdout",
     "output_type": "stream",
     "text": [
      "Hello world!\n"
     ]
    }
   ],
   "source": [
    "print(\"Hello world!\")"
   ]
  },
  {
   "cell_type": "markdown",
   "metadata": {},
   "source": [
    "2)Declare the following variables:\n",
    "\n",
    "Int, Float, Boolean, String & print its value"
   ]
  },
  {
   "cell_type": "code",
   "execution_count": 6,
   "metadata": {},
   "outputs": [
    {
     "name": "stdout",
     "output_type": "stream",
     "text": [
      "5\n",
      "5.2\n",
      "True\n",
      "hello\n"
     ]
    }
   ],
   "source": [
    "a = 5\n",
    "b = 5.2\n",
    "c = True\n",
    "d = \"hello\"\n",
    "print(a)\n",
    "print(b)\n",
    "print(c)\n",
    "print(d)"
   ]
  },
  {
   "cell_type": "markdown",
   "metadata": {},
   "source": [
    "3)Program to calculate the Area Of Triangle"
   ]
  },
  {
   "cell_type": "code",
   "execution_count": 13,
   "metadata": {},
   "outputs": [
    {
     "name": "stdout",
     "output_type": "stream",
     "text": [
      "Enter sides of triangle: 10 10 10\n",
      "43.30127018922193\n"
     ]
    }
   ],
   "source": [
    "import numpy as np\n",
    "\n",
    "def aot(a,b,c):\n",
    "    #semi-perimeter\n",
    "    s = (a+b+c)/2\n",
    "    area = np.sqrt(s*(s-a)*(s-b)*(s-c))\n",
    "    print(area)\n",
    "    \n",
    "a,b,c = map(int, input(\"Enter sides of triangle: \").split())\n",
    "aot(a,b,c)"
   ]
  },
  {
   "cell_type": "markdown",
   "metadata": {},
   "source": [
    "4)Program to swap two variables"
   ]
  },
  {
   "cell_type": "code",
   "execution_count": 18,
   "metadata": {},
   "outputs": [
    {
     "name": "stdout",
     "output_type": "stream",
     "text": [
      "Enter two values two swap: 5 3\n",
      "Values before swap: 5 3\n",
      "Values after swap: 3 5\n"
     ]
    }
   ],
   "source": [
    "def swap(a,b):\n",
    "    c = a+b\n",
    "    a = b\n",
    "    b = c-a\n",
    "    \n",
    "    return(a,b)\n",
    "\n",
    "a,b = map(int, input(\"Enter two values two swap: \").split())\n",
    "print(\"Values before swap: {} {}\".format(a,b))\n",
    "a,b = swap(a,b)\n",
    "print(\"Values after swap: {} {}\".format(a,b))"
   ]
  },
  {
   "cell_type": "markdown",
   "metadata": {},
   "source": [
    "5)Program is to check if a number is positive, negative\n",
    "or 0 (Using If…elif…else)"
   ]
  },
  {
   "cell_type": "code",
   "execution_count": 22,
   "metadata": {},
   "outputs": [
    {
     "name": "stdout",
     "output_type": "stream",
     "text": [
      "Enter number: 2\n",
      "Number is positive!\n"
     ]
    }
   ],
   "source": [
    "a = int(input(\"Enter number: \"))\n",
    "\n",
    "if(a > 0):\n",
    "    print(\"Number is positive!\")\n",
    "elif(a < 0):\n",
    "    print(\"Number is negative!\")\n",
    "else:\n",
    "    print(\"Number is zero!\")"
   ]
  },
  {
   "cell_type": "markdown",
   "metadata": {},
   "source": [
    "6)Program is to check if a number is Even or Odd"
   ]
  },
  {
   "cell_type": "code",
   "execution_count": 29,
   "metadata": {},
   "outputs": [
    {
     "name": "stdout",
     "output_type": "stream",
     "text": [
      "Enter number: 4\n",
      "Number is even!\n"
     ]
    }
   ],
   "source": [
    "a = int(input(\"Enter number: \"))\n",
    "\n",
    "if(a % 2 ==  0):\n",
    "    print(\"Number is even!\")\n",
    "else:\n",
    "    print(\"Number is odd!\")"
   ]
  },
  {
   "cell_type": "markdown",
   "metadata": {},
   "source": [
    "7)Program to print Odd number within a given range"
   ]
  },
  {
   "cell_type": "code",
   "execution_count": 33,
   "metadata": {},
   "outputs": [
    {
     "name": "stdout",
     "output_type": "stream",
     "text": [
      "Enter the range: 20\n",
      "1\n",
      "3\n",
      "5\n",
      "7\n",
      "9\n",
      "11\n",
      "13\n",
      "15\n",
      "17\n",
      "19\n"
     ]
    }
   ],
   "source": [
    "n = int(input(\"Enter the range: \"))\n",
    "\n",
    "for i in range(1,n,2):\n",
    "    print(i)"
   ]
  },
  {
   "cell_type": "markdown",
   "metadata": {},
   "source": [
    "8)Python program to find the factorial of a number"
   ]
  },
  {
   "cell_type": "code",
   "execution_count": 36,
   "metadata": {},
   "outputs": [
    {
     "name": "stdout",
     "output_type": "stream",
     "text": [
      "Enter number: 6\n",
      "Factorial of the number is : 720\n"
     ]
    }
   ],
   "source": [
    "a = int(input(\"Enter number: \"))\n",
    "\n",
    "def fact(a):\n",
    "    res = 1\n",
    "    for i in range(a, 0, -1):\n",
    "        res = res*i\n",
    "    return(res)\n",
    "    \n",
    "res = fact(a)\n",
    "print(\"Factorial of the number is : {}\".format(res))"
   ]
  },
  {
   "cell_type": "markdown",
   "metadata": {},
   "source": [
    "9)Program to reverse a given number"
   ]
  },
  {
   "cell_type": "code",
   "execution_count": 39,
   "metadata": {},
   "outputs": [
    {
     "name": "stdout",
     "output_type": "stream",
     "text": [
      "Enter number: 678\n",
      "Reversed number: 876\n"
     ]
    }
   ],
   "source": [
    "a = int(input(\"Enter number: \"))\n",
    "num = a\n",
    "rev = 0\n",
    "while(num > 0):\n",
    "    rev = rev*10 + num%10\n",
    "    num = num // 10\n",
    "print(\"Reversed number: {}\".format(rev))"
   ]
  },
  {
   "cell_type": "markdown",
   "metadata": {},
   "source": [
    "10)Program to find out the sum of Natural numbers"
   ]
  },
  {
   "cell_type": "code",
   "execution_count": 41,
   "metadata": {},
   "outputs": [
    {
     "name": "stdout",
     "output_type": "stream",
     "text": [
      "Enter the range: 5\n",
      "Sum: 15\n"
     ]
    }
   ],
   "source": [
    "n = int(input(\"Enter the range: \"))\n",
    "s = 0\n",
    "for i in range(1,n+1):\n",
    "    s += i\n",
    "    \n",
    "print(\"Sum: {}\".format(s))"
   ]
  },
  {
   "cell_type": "markdown",
   "metadata": {},
   "source": [
    "## Strings"
   ]
  },
  {
   "cell_type": "markdown",
   "metadata": {},
   "source": [
    "1)Program to reverse a string without using recursion"
   ]
  },
  {
   "cell_type": "code",
   "execution_count": 47,
   "metadata": {},
   "outputs": [
    {
     "name": "stdout",
     "output_type": "stream",
     "text": [
      "Enter the string: hello world\n",
      "Reversed string: dlrow olleh\n"
     ]
    }
   ],
   "source": [
    "a = input(\"Enter the string: \")\n",
    "rev_strng = reversed(a)\n",
    "print(\"Reversed string: {}\".format(''.join(rev_strng)))"
   ]
  },
  {
   "cell_type": "code",
   "execution_count": 48,
   "metadata": {},
   "outputs": [
    {
     "name": "stdout",
     "output_type": "stream",
     "text": [
      "Enter the string: hello world\n",
      "Reversed string: dlrow olleh\n"
     ]
    }
   ],
   "source": [
    "#Another way\n",
    "a = input(\"Enter the string: \")\n",
    "\n",
    "str1 = \"\"\n",
    "for i in a:\n",
    "    str1 = i + str1\n",
    "\n",
    "print(\"Reversed string: {}\".format(str1))"
   ]
  },
  {
   "cell_type": "markdown",
   "metadata": {},
   "source": [
    "2)Program to check if string is palindrome or not"
   ]
  },
  {
   "cell_type": "code",
   "execution_count": 60,
   "metadata": {},
   "outputs": [
    {
     "name": "stdout",
     "output_type": "stream",
     "text": [
      "Enter the string: hey good hey\n",
      "Reversed string: hey good hey\n",
      "Palindrome!\n"
     ]
    }
   ],
   "source": [
    "a = input(\"Enter the string: \")\n",
    "\n",
    "lst1 = list(a.split())\n",
    "lst2 = [lst1[i] for i in range(len(lst1)-1, -1, -1)]\n",
    "\n",
    "print(\"Reversed string: {}\".format(' '.join(lst2)))\n",
    "\n",
    "if(lst1 == lst2):\n",
    "    print(\"Palindrome!\")\n",
    "else:\n",
    "    print(\"Not palindrome!\")"
   ]
  },
  {
   "cell_type": "markdown",
   "metadata": {},
   "source": [
    "3)Python Program to Replace all Occurrences of ‘a’ with $ in a String"
   ]
  },
  {
   "cell_type": "code",
   "execution_count": 63,
   "metadata": {},
   "outputs": [
    {
     "name": "stdout",
     "output_type": "stream",
     "text": [
      "Enter the string: shivani agrawal\n",
      "New string: shiv$ni $gr$w$l\n"
     ]
    }
   ],
   "source": [
    "a = input(\"Enter the string: \")\n",
    "\n",
    "res = a.replace('a', '$')\n",
    "print(\"New string: {}\".format(res))"
   ]
  },
  {
   "cell_type": "markdown",
   "metadata": {},
   "source": [
    "4)Python Program to Count the Number of Vowels in a String"
   ]
  },
  {
   "cell_type": "code",
   "execution_count": 69,
   "metadata": {},
   "outputs": [
    {
     "name": "stdout",
     "output_type": "stream",
     "text": [
      "Enter the string: shivani agrawal\n",
      "No. of vowels: 6\n"
     ]
    }
   ],
   "source": [
    "import numpy as np\n",
    "\n",
    "a = input(\"Enter the string: \")\n",
    "cnt=0\n",
    "for i in a:\n",
    "    if((i == 'a') or (i == 'A') or (i == 'e') or (i == 'E') or (i == 'i') or (i == 'I') or (i == 'o') or (i == 'O') or (i == 'u') or (i == 'U')):\n",
    "        cnt = cnt + 1\n",
    "print(\"No. of vowels: {}\".format(cnt))"
   ]
  },
  {
   "cell_type": "markdown",
   "metadata": {},
   "source": [
    "5)Input Two Strings and Display the Larger String without Using Built-in Functions"
   ]
  },
  {
   "cell_type": "code",
   "execution_count": 72,
   "metadata": {},
   "outputs": [
    {
     "name": "stdout",
     "output_type": "stream",
     "text": [
      "Enter first string: hey you!\n",
      "Enter second string: hi\n",
      "hey you!\n"
     ]
    }
   ],
   "source": [
    "a = input(\"Enter first string: \")\n",
    "b = input(\"Enter second string: \")\n",
    "len_a = 0\n",
    "len_b = 0\n",
    "for i in a:\n",
    "    len_a = len_a + 1\n",
    "for i in b:\n",
    "    len_b = len_b + 1\n",
    "    \n",
    "if(len_a > len_b):\n",
    "    print(a)\n",
    "elif(len_a < len_b):\n",
    "    print(b)\n",
    "else:\n",
    "    print(\"Both are equal!\")"
   ]
  },
  {
   "cell_type": "markdown",
   "metadata": {},
   "source": [
    "6)Count the number of digits & letter in a string"
   ]
  },
  {
   "cell_type": "code",
   "execution_count": 77,
   "metadata": {},
   "outputs": [
    {
     "name": "stdout",
     "output_type": "stream",
     "text": [
      "Enter first string: classOf2018\n",
      "No. of digits: 4\n",
      "No. of letters: 7\n"
     ]
    }
   ],
   "source": [
    "a = input(\"Enter the string: \")\n",
    "cnt1 = cnt2 = 0\n",
    "for i in a:\n",
    "    if(i.isdigit()):\n",
    "        cnt1 = cnt1+1\n",
    "    else:\n",
    "        cnt2 = cnt2+1\n",
    "print(\"No. of digits: {}\".format(cnt1))\n",
    "print(\"No. of letters: {}\".format(cnt2))"
   ]
  },
  {
   "cell_type": "markdown",
   "metadata": {},
   "source": [
    "7)Count Number of Lowercase Characters in a String"
   ]
  },
  {
   "cell_type": "code",
   "execution_count": 78,
   "metadata": {},
   "outputs": [
    {
     "name": "stdout",
     "output_type": "stream",
     "text": [
      "Enter the string: shiVani AgraWal\n",
      "No. of lowercase letters: 11\n"
     ]
    }
   ],
   "source": [
    "a = input(\"Enter the string: \")\n",
    "\n",
    "lower_range = ['a', 'b', 'c', 'd', 'e', 'f', 'g', 'h', 'i', 'j', 'k', 'l', \n",
    "               'm', 'n', 'o', 'p', 'q', 'r', 's', 't', 'u', 'v', 'w', 'x', 'y', 'z']\n",
    "cnt1 = 0\n",
    "for i in a:\n",
    "    if i in(lower_range):\n",
    "        cnt1= cnt1+1\n",
    "print(\"No. of lowercase letters: {}\".format(cnt1))"
   ]
  },
  {
   "cell_type": "markdown",
   "metadata": {},
   "source": [
    "8)Program to check if a Substring is Present in a Given String"
   ]
  },
  {
   "cell_type": "code",
   "execution_count": 81,
   "metadata": {},
   "outputs": [
    {
     "name": "stdout",
     "output_type": "stream",
     "text": [
      "Enter the sub-string: world\n",
      "Enter the string: hello world\n",
      "Substring\n"
     ]
    }
   ],
   "source": [
    "a = input(\"Enter the sub-string: \")\n",
    "b = input(\"Enter the string: \")\n",
    "\n",
    "if(b.find(a) == -1):\n",
    "    print(\"Not a sub-string\")\n",
    "else:\n",
    "    print(\"Substring\")"
   ]
  },
  {
   "cell_type": "markdown",
   "metadata": {},
   "source": [
    "## Lists and Tuples"
   ]
  },
  {
   "cell_type": "markdown",
   "metadata": {},
   "source": [
    "1)Program to Find the Largest Number in a List"
   ]
  },
  {
   "cell_type": "code",
   "execution_count": 82,
   "metadata": {},
   "outputs": [
    {
     "name": "stdout",
     "output_type": "stream",
     "text": [
      "Enter number of elements in the list: 5\n",
      "Enter list element: 2\n",
      "Enter list element: 3\n",
      "Enter list element: 67\n",
      "Enter list element: 34\n",
      "Enter list element: 89\n",
      "Largest number: 89\n"
     ]
    }
   ],
   "source": [
    "num = int(input(\"Enter number of elements in the list: \"))\n",
    "l1 = []\n",
    "for i in range(0, num):\n",
    "    n = int(input(\"Enter list element: \"))\n",
    "    l1.append(n)\n",
    "    \n",
    "print(\"Largest number: {}\".format(max(l1)))"
   ]
  },
  {
   "cell_type": "markdown",
   "metadata": {},
   "source": [
    "2)Program to Put Even and Odd elements in a List into Two Different Lists"
   ]
  },
  {
   "cell_type": "code",
   "execution_count": 83,
   "metadata": {},
   "outputs": [
    {
     "name": "stdout",
     "output_type": "stream",
     "text": [
      "Enter number of elements in the list: 6\n",
      "Enter list element: 2\n",
      "Enter list element: 4\n",
      "Enter list element: 5\n",
      "Enter list element: 1\n",
      "Enter list element: 8\n",
      "Enter list element: 90\n",
      "Even elements: [2, 4, 8, 90]\n",
      "Odd elements: [5, 1]\n"
     ]
    }
   ],
   "source": [
    "num = int(input(\"Enter number of elements in the list: \"))\n",
    "l1 = []\n",
    "for i in range(0, num):\n",
    "    n = int(input(\"Enter list element: \"))\n",
    "    l1.append(n)\n",
    "\n",
    "ev_lst = []\n",
    "odd_lst = []\n",
    "for i in l1:\n",
    "    if(i%2 == 0):\n",
    "        ev_lst.append(i)\n",
    "    else:\n",
    "        odd_lst.append(i)\n",
    "        \n",
    "print(\"Even elements: {}\".format(ev_lst))\n",
    "print(\"Odd elements: {}\".format(odd_lst))"
   ]
  },
  {
   "cell_type": "markdown",
   "metadata": {},
   "source": [
    "3)Program to Read a List of Words and Return the Length of the Longest One"
   ]
  },
  {
   "cell_type": "code",
   "execution_count": 86,
   "metadata": {},
   "outputs": [
    {
     "name": "stdout",
     "output_type": "stream",
     "text": [
      "Enter number of elements in the list: 4\n",
      "Enter list element: hi\n",
      "Enter list element: hello\n",
      "Enter list element: how are you\n",
      "Enter list element: hi there\n",
      "11\n"
     ]
    }
   ],
   "source": [
    "num = int(input(\"Enter number of elements in the list: \"))\n",
    "l1 = []\n",
    "for i in range(0, num):\n",
    "    n = input(\"Enter list element: \")\n",
    "    l1.append(n)\n",
    "    \n",
    "maxlen=0\n",
    "for i in l1:\n",
    "    if(len(i) > maxlen):\n",
    "        maxlen = len(i)\n",
    "    \n",
    "print(maxlen)"
   ]
  },
  {
   "cell_type": "markdown",
   "metadata": {},
   "source": [
    "4)Create a List of Tuples with the First Element as the Number and Second Element as the Square of the Number"
   ]
  },
  {
   "cell_type": "code",
   "execution_count": 96,
   "metadata": {},
   "outputs": [
    {
     "name": "stdout",
     "output_type": "stream",
     "text": [
      "Enter number of elements in the list: 4\n",
      "Enter list element: 2\n",
      "Enter list element: 3\n",
      "Enter list element: 5\n",
      "Enter list element: 6\n",
      "[(2, 4), (3, 9), (5, 25), (6, 36)]\n"
     ]
    }
   ],
   "source": [
    "num = int(input(\"Enter number of elements in the list: \"))\n",
    "l1 = []\n",
    "for i in range(0, num):\n",
    "    n = int(input(\"Enter list element: \"))\n",
    "    l1.append((n, n**2))\n",
    "\n",
    "print(l1)"
   ]
  },
  {
   "cell_type": "markdown",
   "metadata": {},
   "source": [
    "5)Program to Remove the Duplicate Items from a List"
   ]
  },
  {
   "cell_type": "code",
   "execution_count": 97,
   "metadata": {},
   "outputs": [
    {
     "name": "stdout",
     "output_type": "stream",
     "text": [
      "Enter number of elements in the list: 5\n",
      "Enter list element: 2\n",
      "Enter list element: 3\n",
      "Enter list element: 2\n",
      "Enter list element: 5\n",
      "Enter list element: 5\n",
      "[2, 3, 5]\n"
     ]
    }
   ],
   "source": [
    "num = int(input(\"Enter number of elements in the list: \"))\n",
    "l1 = []\n",
    "for i in range(0, num):\n",
    "    n = int(input(\"Enter list element: \"))\n",
    "    l1.append(n)\n",
    "    \n",
    "l2 = list(set(l1))\n",
    "print(l2)"
   ]
  },
  {
   "cell_type": "markdown",
   "metadata": {},
   "source": [
    "## Dictionary"
   ]
  },
  {
   "cell_type": "markdown",
   "metadata": {},
   "source": [
    "1)Program to Check if a Given Key Exists in a Dictionary or Not"
   ]
  },
  {
   "cell_type": "code",
   "execution_count": 106,
   "metadata": {},
   "outputs": [
    {
     "name": "stdout",
     "output_type": "stream",
     "text": [
      "Enter key to be checked: a\n",
      "Enter no. of key-value pairs in the dictionary: 3\n",
      "Enter key: a\n",
      "Enter value: 100\n",
      "Enter key: b\n",
      "Enter value: 200\n",
      "Enter key: c\n",
      "Enter value: 300\n",
      "Key exists!\n"
     ]
    }
   ],
   "source": [
    "k = input(\"Enter key to be checked: \")\n",
    "n = int(input(\"Enter no. of key-value pairs in the dictionary: \"))\n",
    "\n",
    "d = {}\n",
    "for i in range(0,n):\n",
    "    k1 = input(\"Enter key: \")\n",
    "    value = input(\"Enter value: \")\n",
    "    d[k1] = value\n",
    "    \n",
    "if(k in  d.keys()):\n",
    "    print(\"Key exists!\")\n",
    "else:\n",
    "    print(\"Key does not exists!\")\n",
    " "
   ]
  },
  {
   "cell_type": "markdown",
   "metadata": {},
   "source": [
    "2)Program to Sum All the Items in a Dictionary"
   ]
  },
  {
   "cell_type": "code",
   "execution_count": 2,
   "metadata": {},
   "outputs": [
    {
     "name": "stdout",
     "output_type": "stream",
     "text": [
      "Enter no. of key-value pairs in the dictionary: 3\n",
      "Enter key: a\n",
      "Enter value: 100\n",
      "Enter key: 2\n",
      "Enter value: 200\n",
      "Enter key: c\n",
      "Enter value: -20\n",
      "The sum is: 280\n"
     ]
    }
   ],
   "source": [
    "n = int(input(\"Enter no. of key-value pairs in the dictionary: \"))\n",
    "\n",
    "d = {}\n",
    "for i in range(0,n):\n",
    "    k1 = input(\"Enter key: \")\n",
    "    value = int(input(\"Enter value: \"))\n",
    "    d[k1] = value\n",
    "    \n",
    "def sum_dict(d):\n",
    "    s = 0\n",
    "    for v in d.values():\n",
    "        s = s + v\n",
    "    return s\n",
    "\n",
    "res = sum_dict(d)\n",
    "print(\"The sum is: {}\".format(res))"
   ]
  },
  {
   "cell_type": "markdown",
   "metadata": {},
   "source": [
    "3)Program to Remove the Given Key from a Dictionary"
   ]
  },
  {
   "cell_type": "code",
   "execution_count": 3,
   "metadata": {},
   "outputs": [
    {
     "name": "stdout",
     "output_type": "stream",
     "text": [
      "Enter no. of key-value pairs in the dictionary: 3\n",
      "Enter key to be removed from the dictionary: a\n",
      "Enter key: a\n",
      "Enter value: 12\n",
      "Enter key: c\n",
      "Enter value: 23\n",
      "Enter key: d\n",
      "Enter value: 34\n",
      "Dictionary after removing the given key: {'c': '23', 'd': '34'}\n"
     ]
    }
   ],
   "source": [
    "n = int(input(\"Enter no. of key-value pairs in the dictionary: \"))\n",
    "k = input(\"Enter key to be removed from the dictionary: \")\n",
    "\n",
    "d = {}\n",
    "for i in range(0,n):\n",
    "    k1 = input(\"Enter key: \")\n",
    "    value = input(\"Enter value: \")\n",
    "    d[k1] = value\n",
    "#check if given key exists in dict or not\n",
    "if(k in  d.keys()):\n",
    "    #print(\"Key exists!\")\n",
    "    d.pop(k)\n",
    "    print(\"Dictionary after removing the given key: {}\".format(d))\n",
    "else:\n",
    "    print(\"Key does not exists!\")\n",
    "    \n"
   ]
  },
  {
   "cell_type": "markdown",
   "metadata": {},
   "source": [
    "4)Write a Python program to iterate over dictionaries using for loops"
   ]
  },
  {
   "cell_type": "code",
   "execution_count": 4,
   "metadata": {},
   "outputs": [
    {
     "name": "stdout",
     "output_type": "stream",
     "text": [
      "Enter no. of key-value pairs in the dictionary: 3\n",
      "Enter key: fruit\n",
      "Enter value: mango\n",
      "Enter key: car\n",
      "Enter value: baleno\n",
      "Enter key: sum\n",
      "Enter value: add\n",
      "The key is fruit and value is mango\n",
      "The key is car and value is baleno\n",
      "The key is sum and value is add\n"
     ]
    }
   ],
   "source": [
    "n = int(input(\"Enter no. of key-value pairs in the dictionary: \"))\n",
    "\n",
    "d = {}\n",
    "for i in range(0,n):\n",
    "    k1 = input(\"Enter key: \")\n",
    "    value = input(\"Enter value: \")\n",
    "    d[k1] = value\n",
    "    \n",
    "for k,v in d.items():\n",
    "    print(\"The key is {} and value is {}\".format(k,v))"
   ]
  },
  {
   "cell_type": "markdown",
   "metadata": {},
   "source": [
    "5)Write a Python program to sort a dictionary by key."
   ]
  },
  {
   "cell_type": "code",
   "execution_count": 9,
   "metadata": {},
   "outputs": [
    {
     "name": "stdout",
     "output_type": "stream",
     "text": [
      "Enter no. of key-value pairs in the dictionary: 3\n",
      "Enter key: plant\n",
      "Enter value: lotus\n",
      "Enter key: fruit\n",
      "Enter value: mango\n",
      "Enter key: brand\n",
      "Enter value: tesla\n",
      "Sorted Dictionary: \n",
      "brand : tesla\n",
      "fruit : mango\n",
      "plant : lotus\n"
     ]
    }
   ],
   "source": [
    "n = int(input(\"Enter no. of key-value pairs in the dictionary: \"))\n",
    "\n",
    "d = {}\n",
    "for i in range(0,n):\n",
    "    k1 = input(\"Enter key: \")\n",
    "    value = input(\"Enter value: \")\n",
    "    d[k1] = value\n",
    "\n",
    "print(\"Sorted Dictionary: \")\n",
    "for k in sorted(d.keys()):\n",
    "    print(\"{} : {}\".format(k,d[k]))"
   ]
  },
  {
   "cell_type": "code",
   "execution_count": null,
   "metadata": {},
   "outputs": [],
   "source": []
  }
 ],
 "metadata": {
  "kernelspec": {
   "display_name": "Python 3",
   "language": "python",
   "name": "python3"
  },
  "language_info": {
   "codemirror_mode": {
    "name": "ipython",
    "version": 3
   },
   "file_extension": ".py",
   "mimetype": "text/x-python",
   "name": "python",
   "nbconvert_exporter": "python",
   "pygments_lexer": "ipython3",
   "version": "3.7.3"
  }
 },
 "nbformat": 4,
 "nbformat_minor": 2
}
