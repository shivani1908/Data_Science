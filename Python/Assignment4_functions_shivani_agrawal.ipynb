{
 "cells": [
  {
   "cell_type": "markdown",
   "metadata": {},
   "source": [
    "## Functions"
   ]
  },
  {
   "cell_type": "markdown",
   "metadata": {},
   "source": [
    "1. Define a Sum Function which accepts variable number of integers as an arguments."
   ]
  },
  {
   "cell_type": "code",
   "execution_count": 25,
   "metadata": {},
   "outputs": [
    {
     "name": "stdout",
     "output_type": "stream",
     "text": [
      "15\n",
      "6.5\n"
     ]
    }
   ],
   "source": [
    "def sum_func(*args):\n",
    "    return sum(args)\n",
    "\n",
    "print(sum_func(1,2,3,4,5))\n",
    "print(sum_func(1,2,3.5))"
   ]
  },
  {
   "cell_type": "markdown",
   "metadata": {},
   "source": [
    "2. WAF to find factorial of a positive number. Return -1 if input to the function is any invalid input.\n",
    "3. Using for loop: "
   ]
  },
  {
   "cell_type": "code",
   "execution_count": 29,
   "metadata": {},
   "outputs": [
    {
     "name": "stdout",
     "output_type": "stream",
     "text": [
      "Enter number: 5\n"
     ]
    },
    {
     "data": {
      "text/plain": [
       "120"
      ]
     },
     "execution_count": 29,
     "metadata": {},
     "output_type": "execute_result"
    }
   ],
   "source": [
    "def fact(num):\n",
    "    if num < 0:\n",
    "        return -1\n",
    "    elif(num==0 or num==1):\n",
    "        return 1\n",
    "    else:\n",
    "        res=1\n",
    "        for i in range(num, 0, -1):\n",
    "            res = res*i\n",
    "        return res\n",
    "\n",
    "num = int(input(\"Enter number: \"))\n",
    "fact(num)"
   ]
  },
  {
   "cell_type": "markdown",
   "metadata": {},
   "source": [
    "4. Using while loop"
   ]
  },
  {
   "cell_type": "code",
   "execution_count": 33,
   "metadata": {},
   "outputs": [
    {
     "name": "stdout",
     "output_type": "stream",
     "text": [
      "Enter number: 5\n"
     ]
    },
    {
     "data": {
      "text/plain": [
       "120"
      ]
     },
     "execution_count": 33,
     "metadata": {},
     "output_type": "execute_result"
    }
   ],
   "source": [
    "def fact_while(num):\n",
    "    if num < 0:\n",
    "        return -1\n",
    "    elif(num==0 or num==1):\n",
    "        return 1\n",
    "    else:\n",
    "        res=1\n",
    "        num = int(num)\n",
    "        while(num>0):\n",
    "            res = res*num\n",
    "            num = num-1\n",
    "        return res\n",
    "\n",
    "num = int(input(\"Enter number: \"))\n",
    "fact_while(num)"
   ]
  },
  {
   "cell_type": "markdown",
   "metadata": {},
   "source": [
    "5. Using recursive function (note: recursive function are computationally expensive)"
   ]
  },
  {
   "cell_type": "code",
   "execution_count": 39,
   "metadata": {},
   "outputs": [
    {
     "name": "stdout",
     "output_type": "stream",
     "text": [
      "Enter number: 5\n",
      "120\n"
     ]
    }
   ],
   "source": [
    "def fact_rec(num):\n",
    "    if(num==1):\n",
    "        return num\n",
    "    return num*fact_rec(num-1)\n",
    "\n",
    "num = int(input(\"Enter number: \"))\n",
    "if num < 0:\n",
    "    print(-1)\n",
    "elif num == 0:\n",
    "    print(1)\n",
    "else:\n",
    "    print(fact_rec(num))"
   ]
  },
  {
   "cell_type": "markdown",
   "metadata": {},
   "source": [
    "6. WAF to swap two numbers."
   ]
  },
  {
   "cell_type": "code",
   "execution_count": 24,
   "metadata": {},
   "outputs": [
    {
     "data": {
      "text/plain": [
       "(6, 5)"
      ]
     },
     "execution_count": 24,
     "metadata": {},
     "output_type": "execute_result"
    }
   ],
   "source": [
    "def swap_nums(a, b):\n",
    "    a = a+b\n",
    "    b = a-b\n",
    "    a = a-b\n",
    "    return a, b\n",
    "swap_nums(5,6)"
   ]
  },
  {
   "cell_type": "markdown",
   "metadata": {},
   "source": [
    "7. WAF to implement basic calculator."
   ]
  },
  {
   "cell_type": "code",
   "execution_count": 47,
   "metadata": {},
   "outputs": [
    {
     "name": "stdout",
     "output_type": "stream",
     "text": [
      "Enter operation: +\n",
      "Enter first number: 3\n",
      "Enter second number: 4\n",
      "Result:  7\n"
     ]
    }
   ],
   "source": [
    "def calc(op,a,b):\n",
    "    if(op=='+'):\n",
    "        return a+b\n",
    "    elif(op=='-'):\n",
    "        return a-b\n",
    "    elif(op == '*'):\n",
    "        return a*b\n",
    "    elif(op == '/'):\n",
    "        if(b !=0):\n",
    "            return a/b\n",
    "        else:\n",
    "            return \"Invalid input!\"\n",
    "    else:\n",
    "        return \"Invalid operation entered!\"\n",
    "    \n",
    "op = input(\"Enter operation: \")\n",
    "a = int(input(\"Enter first number: \"))\n",
    "b = int(input(\"Enter second number: \"))\n",
    "print(\"Result: \", calc(op, a, b))"
   ]
  },
  {
   "cell_type": "markdown",
   "metadata": {},
   "source": [
    "8. Write a lambda function which find square of a number"
   ]
  },
  {
   "cell_type": "code",
   "execution_count": 48,
   "metadata": {},
   "outputs": [
    {
     "data": {
      "text/plain": [
       "16"
      ]
     },
     "execution_count": 48,
     "metadata": {},
     "output_type": "execute_result"
    }
   ],
   "source": [
    "s = lambda x: x**2\n",
    "s(4)"
   ]
  },
  {
   "cell_type": "markdown",
   "metadata": {},
   "source": [
    "9. Declare a List with Numbers from 1 to 100 using List Comprehension. Use the lambda and filter function to filter all even numbers."
   ]
  },
  {
   "cell_type": "code",
   "execution_count": 51,
   "metadata": {},
   "outputs": [
    {
     "name": "stdout",
     "output_type": "stream",
     "text": [
      "[2, 4, 6, 8, 10, 12, 14, 16, 18, 20, 22, 24, 26, 28, 30, 32, 34, 36, 38, 40, 42, 44, 46, 48, 50, 52, 54, 56, 58, 60, 62, 64, 66, 68, 70, 72, 74, 76, 78, 80, 82, 84, 86, 88, 90, 92, 94, 96, 98, 100]\n"
     ]
    }
   ],
   "source": [
    "lst = [i for i in range(1,101)]\n",
    "print(list(filter(lambda x: x%2==0, lst)))"
   ]
  },
  {
   "cell_type": "markdown",
   "metadata": {},
   "source": [
    "10. [‘male’,’female’,’male’,’female’,’male’,’female’,’female’,’female’] => Replace ‘male’ with 0 and ‘female’ with 1 using lambda function and map function"
   ]
  },
  {
   "cell_type": "code",
   "execution_count": 55,
   "metadata": {},
   "outputs": [
    {
     "name": "stdout",
     "output_type": "stream",
     "text": [
      "[0, 1, 0, 1, 0, 1, 1, 1]\n"
     ]
    }
   ],
   "source": [
    "lst = ['male', 'female', 'male', 'female', 'male', 'female', 'female', 'female']\n",
    "res=list(map(lambda x: x[0] == 'f', lst))\n",
    "res1=[]\n",
    "for i in res:\n",
    "    if(i):\n",
    "        res1.append(1)\n",
    "    else:\n",
    "        res1.append(0)\n",
    "print(res1)"
   ]
  },
  {
   "cell_type": "markdown",
   "metadata": {},
   "source": [
    "11.Find Fibonacci series for given length using lambda and reduce function"
   ]
  },
  {
   "cell_type": "code",
   "execution_count": 57,
   "metadata": {},
   "outputs": [
    {
     "name": "stdout",
     "output_type": "stream",
     "text": [
      "Enter length: 5\n",
      "[0, 1, 1, 2, 3]\n"
     ]
    }
   ],
   "source": [
    "from functools import reduce\n",
    "n = int(input(\"Enter length: \"))\n",
    "fib = lambda y: reduce(lambda x, _: x + [x[-1] + x[-2]], range(y - 2), [0, 1])\n",
    "print(fib(n))"
   ]
  },
  {
   "cell_type": "markdown",
   "metadata": {},
   "source": [
    "12.Find intersection of two arrays using lambda and filter function"
   ]
  },
  {
   "cell_type": "code",
   "execution_count": 56,
   "metadata": {},
   "outputs": [
    {
     "name": "stdout",
     "output_type": "stream",
     "text": [
      "[5, 6]\n"
     ]
    }
   ],
   "source": [
    "arr1 = [1,2,3,4,5,6]\n",
    "arr2 = [5,7,6,8]\n",
    "print(list(filter(lambda x: x in arr1, arr2)))"
   ]
  },
  {
   "cell_type": "markdown",
   "metadata": {},
   "source": [
    "13. WAF to check the type of the data with the signature as follow: \n",
    " \n",
    " def find_type(var):\n",
    " \n",
    "i. Examples\n",
    "1. Input1: var = True=> output1 = Bool type\n",
    "2. Input2: var = 4 => output2 = int type\n",
    "3. Input3: var = [3, 4, 5, 6]=> output3 = list"
   ]
  },
  {
   "cell_type": "code",
   "execution_count": 29,
   "metadata": {},
   "outputs": [
    {
     "name": "stdout",
     "output_type": "stream",
     "text": [
      "Bool type\n",
      "float type\n",
      "string type\n",
      "tuple\n",
      "list\n",
      "list\n",
      "tuple\n",
      "Dictionary\n",
      "int type\n"
     ]
    }
   ],
   "source": [
    "def find_type(var):\n",
    "    if(isinstance(var, bool)):\n",
    "        return \"Bool type\"\n",
    "    elif(isinstance(var, int)):\n",
    "        return \"int type\"\n",
    "    elif(isinstance(var, float)):\n",
    "        return \"float type\"\n",
    "    elif(isinstance(var, complex)):\n",
    "        return \"complex type\"\n",
    "    elif(isinstance(var, str)):\n",
    "        return \"string type\"\n",
    "    elif(isinstance(var, set)):\n",
    "        return \"set type\"\n",
    "    elif(isinstance(var, list)):\n",
    "        return \"list\"\n",
    "    elif(isinstance(var, tuple)):\n",
    "        return \"tuple\"\n",
    "    elif(isinstance(var, dict)):\n",
    "        return \"Dictionary\"\n",
    "    elif(isinstance(var, object)):\n",
    "        return \"Object type\"\n",
    "    else:\n",
    "        return \"Invalid type\"\n",
    "    \n",
    "print(find_type(True))\n",
    "print(find_type(1.2))\n",
    "print(find_type(\"hi\"))\n",
    "print(find_type((1,2)))\n",
    "print(find_type([12,13]))\n",
    "print(find_type([1,2,[3],(4),'hi']))\n",
    "print(find_type((1,2,'hi')))\n",
    "print(find_type({'a': 1, 'b': 2}))\n",
    "print(find_type(-1))"
   ]
  },
  {
   "cell_type": "markdown",
   "metadata": {},
   "source": [
    "14. WAF to check if a number is even or odd using lambda expression."
   ]
  },
  {
   "cell_type": "code",
   "execution_count": 40,
   "metadata": {},
   "outputs": [
    {
     "name": "stdout",
     "output_type": "stream",
     "text": [
      "Enter number: 10\n",
      "Even\n"
     ]
    }
   ],
   "source": [
    "n = int(input(\"Enter number: \"))\n",
    "s = lambda x: x%2==0\n",
    "if(s(n)==True):\n",
    "    print(\"Even\")\n",
    "else:\n",
    "    print(\"Odd\")"
   ]
  },
  {
   "cell_type": "markdown",
   "metadata": {},
   "source": [
    "15. WAF to return appropriate message as follows:\n",
    "- If the sequence is in ascending order: return “Ascending order”\n",
    "- If the sequence is in descending order: return “Descending order”\n",
    "- Else: “Random order”\n",
    "- Test case sequences:\n",
    "- (10,10,20,30,20,20)\n",
    "- (20,20,30,30,30,40,40,40)\n",
    "\n",
    "- (20,20,30,30,30,29,40,40,40)\n",
    "- (20,20,30,30,30,40,40,40,10)\n",
    "- (20,20,20,30,30,30,40,40,40)\n",
    "- (20,20,30,30,30,40,40,40,31)\n",
    "- (40,40,40,30,20,20,20)\n",
    "- (40,40,40,30,20,20,20,10)\n",
    "- (40,40,40,30,10,20,20)"
   ]
  },
  {
   "cell_type": "code",
   "execution_count": 53,
   "metadata": {},
   "outputs": [
    {
     "name": "stdout",
     "output_type": "stream",
     "text": [
      "Enter length of tuple: 8\n",
      "Enter item: 20\n",
      "Enter item: 20\n",
      "Enter item: 30\n",
      "Enter item: 30\n",
      "Enter item: 30\n",
      "Enter item: 40\n",
      "Enter item: 40\n",
      "Enter item: 40\n",
      "Ascending order\n"
     ]
    }
   ],
   "source": [
    "def order(tup):\n",
    "    f1=0\n",
    "    f2=0\n",
    "    cnt1 = 0\n",
    "    cnt2 = 0\n",
    "    for i in range(0, len(tup)-1):\n",
    "        if(tup[i] <= tup[i+1]):\n",
    "            f1 = 1\n",
    "            cnt1 = cnt1+1\n",
    "        else:\n",
    "            f1=0\n",
    "\n",
    "    if(f1 == 1 and cnt1 == len(tup)-1):\n",
    "        print(\"Ascending order\")\n",
    "    else:\n",
    "        for i in range(0, len(tup)-1):\n",
    "            if(tup[i] >= tup[i+1]):\n",
    "                f2 = 2\n",
    "                cnt2 = cnt2+1\n",
    "            else:\n",
    "                f2=0\n",
    "\n",
    "        if(f2 == 2 and cnt2 == len(tup)-1):\n",
    "            print(\"Descending order\")\n",
    "\n",
    "        else:\n",
    "            print(\"Random order\")\n",
    "            \n",
    "n = int(input('Enter length of tuple: '))\n",
    "tup = []\n",
    "for i in range(0,n):\n",
    "    item = int(input(\"Enter item: \"))\n",
    "    tup.append(item)\n",
    "#tup = (40,40,40,30,10,20,20)\n",
    "order(tup)"
   ]
  }
 ],
 "metadata": {
  "kernelspec": {
   "display_name": "Python 3",
   "language": "python",
   "name": "python3"
  },
  "language_info": {
   "codemirror_mode": {
    "name": "ipython",
    "version": 3
   },
   "file_extension": ".py",
   "mimetype": "text/x-python",
   "name": "python",
   "nbconvert_exporter": "python",
   "pygments_lexer": "ipython3",
   "version": "3.7.3"
  }
 },
 "nbformat": 4,
 "nbformat_minor": 2
}
