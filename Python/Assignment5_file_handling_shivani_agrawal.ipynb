{
 "cells": [
  {
   "cell_type": "markdown",
   "metadata": {},
   "source": [
    "## File Input output Handling"
   ]
  },
  {
   "cell_type": "markdown",
   "metadata": {},
   "source": [
    "1. Python Program to Read the Contents of a File"
   ]
  },
  {
   "cell_type": "code",
   "execution_count": 4,
   "metadata": {},
   "outputs": [],
   "source": [
    "#creating new file\n",
    "f = open('file1.txt', 'w')\n",
    "\n",
    "#writing into the file created \n",
    "f.write(\"This is first line.\\n\")\n",
    "f.write(\"This is second line.\")\n",
    "f.close()"
   ]
  },
  {
   "cell_type": "code",
   "execution_count": 7,
   "metadata": {},
   "outputs": [
    {
     "name": "stdout",
     "output_type": "stream",
     "text": [
      "This is first line.\n",
      "This is second line.\n"
     ]
    }
   ],
   "source": [
    "#reading the contents of the file created above\n",
    "with open('file1.txt', mode='r') as f:\n",
    "    print(f.read())\n",
    "f.close()"
   ]
  },
  {
   "cell_type": "markdown",
   "metadata": {},
   "source": [
    "2. Python Program to Count the Number of Words in a Text File"
   ]
  },
  {
   "cell_type": "code",
   "execution_count": 16,
   "metadata": {},
   "outputs": [
    {
     "name": "stdout",
     "output_type": "stream",
     "text": [
      "No. of words:  8\n"
     ]
    }
   ],
   "source": [
    "f = open('file1.txt', mode='r')\n",
    "lst = f.read()\n",
    "print(\"No. of words: \",len(lst.split()))\n",
    "f.close()"
   ]
  },
  {
   "cell_type": "markdown",
   "metadata": {},
   "source": [
    "3. Python Program to Copy the Contents of One File into Another"
   ]
  },
  {
   "cell_type": "code",
   "execution_count": 22,
   "metadata": {},
   "outputs": [],
   "source": [
    "f1 = open(\"file1.txt\", mode='r')\n",
    "f2 = open(\"file2.txt\", mode='w')\n",
    "f2.write(f1.read())\n",
    "#print(type(f1.read()))\n",
    "\n",
    "f1.close()\n",
    "f2.close()"
   ]
  },
  {
   "cell_type": "code",
   "execution_count": 23,
   "metadata": {},
   "outputs": [
    {
     "name": "stdout",
     "output_type": "stream",
     "text": [
      "This is first line.\n",
      "This is second line.\n"
     ]
    }
   ],
   "source": [
    "#reading contents from the new file created\n",
    "f2 = open(\"file2.txt\", mode='r')\n",
    "print(f2.read())\n",
    "f2.close()"
   ]
  },
  {
   "cell_type": "markdown",
   "metadata": {},
   "source": [
    "4. Python Program to Read a File and Capitalize the First Letter of Every Word in the File"
   ]
  },
  {
   "cell_type": "code",
   "execution_count": 26,
   "metadata": {},
   "outputs": [
    {
     "name": "stdout",
     "output_type": "stream",
     "text": [
      "This Is First Line. This Is Second Line.\n"
     ]
    }
   ],
   "source": [
    "f = open('file1.txt', mode='r')\n",
    "text = f.read()\n",
    "lst = text.split()\n",
    "lst = [word[0].upper() + word[1:] for word in lst]\n",
    "print(' '.join(lst))\n",
    "f.close()"
   ]
  },
  {
   "cell_type": "markdown",
   "metadata": {},
   "source": [
    "## Exception Handling"
   ]
  },
  {
   "cell_type": "markdown",
   "metadata": {},
   "source": [
    "1. WAP to read input from user. Allow the user to enter more numbers as long as the user enters valid integers. Terminate the program with proper message when they entered value is anything except integer."
   ]
  },
  {
   "cell_type": "code",
   "execution_count": 10,
   "metadata": {},
   "outputs": [
    {
     "name": "stdout",
     "output_type": "stream",
     "text": [
      "Enter number: 4\n",
      "Enter number: 5\n",
      "Enter number: 4.5\n",
      "Error! Please enter a valid integer value.\n"
     ]
    }
   ],
   "source": [
    "try:\n",
    "    while True:\n",
    "        n = int(input(\"Enter number: \"))\n",
    "except:\n",
    "    print(\"Error! Please enter a valid integer value.\")\n",
    "\n",
    "    "
   ]
  },
  {
   "cell_type": "markdown",
   "metadata": {},
   "source": [
    "2. WAP to read input from a user. Allow the user to enter more numbers as long as the user enters valid numbers. Terminate the program with proper message when the user enters a value anything except valid number."
   ]
  },
  {
   "cell_type": "code",
   "execution_count": 3,
   "metadata": {},
   "outputs": [
    {
     "name": "stdout",
     "output_type": "stream",
     "text": [
      "Enter number: 4\n",
      "Enter number: 4.5\n",
      "Enter number: hi\n",
      "Error! Please enter a valid number.\n"
     ]
    }
   ],
   "source": [
    "try:\n",
    "    while True:\n",
    "        n = input(\"Enter number: \")\n",
    "        temp = float(n)\n",
    "except:\n",
    "    print(\"Error! Please enter a valid number.\")\n",
    "\n",
    "    "
   ]
  },
  {
   "cell_type": "markdown",
   "metadata": {},
   "source": [
    "3. WAP to read input from a user. Allow the user to enter more numbers as long as the user enters valid numbers. Terminate the program with proper message when the user enters a value anything except valid number. Allow wrong entry 'N' times."
   ]
  },
  {
   "cell_type": "code",
   "execution_count": 5,
   "metadata": {},
   "outputs": [
    {
     "name": "stdout",
     "output_type": "stream",
     "text": [
      "Enter the value of 'N': 3\n",
      "Enter number: 2\n",
      "Enter number: 3\n",
      "Enter number: 4\n",
      "Enter number: 5\n",
      "Enter number: 6\n",
      "Enter number: 23\n",
      "Enter number: 2.3\n",
      "Enter number: 3.4\n",
      "Enter number: hi\n",
      "Enter number: 1\n",
      "Enter number: hey\n",
      "Enter number: 11\n",
      "Enter number: helo\n",
      "Enter number: 12\n",
      "Enter number: hello\n",
      "Error! Please enter a valid number.\n"
     ]
    }
   ],
   "source": [
    "N = int(input(\"Enter the value of 'N': \"))\n",
    "\n",
    "while True:\n",
    "    try:\n",
    "            num = input(\"Enter number: \")\n",
    "            temp = float(num)\n",
    "    except:\n",
    "        #print(\"Error! Please enter a valid number.\")\n",
    "        if(N>0):\n",
    "            N=N-1\n",
    "            pass\n",
    "        else:\n",
    "            print(\"Error! Please enter a valid number.\") \n",
    "            break"
   ]
  },
  {
   "cell_type": "markdown",
   "metadata": {},
   "source": [
    "## Regular Expression"
   ]
  },
  {
   "cell_type": "markdown",
   "metadata": {},
   "source": [
    "1. Validate email id using Regular Expression"
   ]
  },
  {
   "cell_type": "code",
   "execution_count": 13,
   "metadata": {},
   "outputs": [],
   "source": [
    "import re"
   ]
  },
  {
   "cell_type": "code",
   "execution_count": 21,
   "metadata": {},
   "outputs": [
    {
     "name": "stdout",
     "output_type": "stream",
     "text": [
      "abc@gmail.com  ->  Valid email id\n",
      "ab1@gmail.com  ->  Valid email id\n",
      "123@gmail.com  ->  Invalid email id\n",
      "1a2@gmail.com  ->  Invalid email id\n",
      "abc.gmail.com  ->  Invalid email id\n",
      "abc.gmailcom  ->  Invalid email id\n"
     ]
    }
   ],
   "source": [
    "#Assuming-> adding digits as valid characters (digits are optional to add) + start with alphabets (compulsary)\n",
    "email_lst = ['abc@gmail.com', 'ab1@gmail.com', '123@gmail.com', '1a2@gmail.com', 'abc.gmail.com', 'abc.gmailcom']\n",
    "for email in email_lst:\n",
    "    if(re.search(pattern = '^[a-zA-Z]+[0-9]*@gmail.com$', string=email)):\n",
    "        print(email, ' -> ', 'Valid email id')\n",
    "    else:\n",
    "        print(email, ' -> ', 'Invalid email id')"
   ]
  },
  {
   "cell_type": "markdown",
   "metadata": {},
   "source": [
    "2. Validate a mobile Phone Number with country code using Regular Expression"
   ]
  },
  {
   "cell_type": "code",
   "execution_count": 29,
   "metadata": {},
   "outputs": [
    {
     "name": "stdout",
     "output_type": "stream",
     "text": [
      "Valid Number.\n",
      "Valid Number.\n",
      "Invalid Number\n",
      "Invalid Number\n",
      "Invalid Number\n",
      "Invalid Number\n"
     ]
    }
   ],
   "source": [
    "for mobile in [\"+9916179811\",\"+447911123456\",\"991617981\",\"991617981-1\",\"991617981a\",\"9r91617981\"]:\n",
    "    if re.search(pattern=\"^\\+[1-9]{1}[0-9]{3,14}$\", string=mobile):\n",
    "        print('Valid Number.')\n",
    "    else:\n",
    "        print('Invalid Number')"
   ]
  },
  {
   "cell_type": "markdown",
   "metadata": {},
   "source": [
    "3. Validate a credit card number using Regular Expression"
   ]
  },
  {
   "cell_type": "code",
   "execution_count": 42,
   "metadata": {},
   "outputs": [
    {
     "name": "stdout",
     "output_type": "stream",
     "text": [
      "Valid Number.\n",
      "Invalid Number\n",
      "Invalid Number\n"
     ]
    }
   ],
   "source": [
    "for credit in [\"4155279860412334\",\"4155279\",\"6155279860457\"]:\n",
    "    if re.search(pattern=\"^4[0-9]{12}(?:[0-9]{3})?$\", string=credit):\n",
    "        print('Valid Number.')\n",
    "    else:\n",
    "        print('Invalid Number')"
   ]
  },
  {
   "cell_type": "markdown",
   "metadata": {},
   "source": [
    "4. Find all numbersin a string using regular expression: string - adbv345hj43hvb42"
   ]
  },
  {
   "cell_type": "code",
   "execution_count": 44,
   "metadata": {},
   "outputs": [
    {
     "data": {
      "text/plain": [
       "['3', '4', '5', '4', '3', '4', '2']"
      ]
     },
     "execution_count": 44,
     "metadata": {},
     "output_type": "execute_result"
    }
   ],
   "source": [
    "str1 = 'adbv345hj43hvb42'\n",
    "re.findall(pattern='[0-9]',string=str1)"
   ]
  },
  {
   "cell_type": "code",
   "execution_count": null,
   "metadata": {},
   "outputs": [],
   "source": []
  }
 ],
 "metadata": {
  "kernelspec": {
   "display_name": "Python 3",
   "language": "python",
   "name": "python3"
  },
  "language_info": {
   "codemirror_mode": {
    "name": "ipython",
    "version": 3
   },
   "file_extension": ".py",
   "mimetype": "text/x-python",
   "name": "python",
   "nbconvert_exporter": "python",
   "pygments_lexer": "ipython3",
   "version": "3.7.3"
  }
 },
 "nbformat": 4,
 "nbformat_minor": 2
}
