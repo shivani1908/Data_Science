{
 "cells": [
  {
   "cell_type": "markdown",
   "metadata": {},
   "source": [
    "## List and Tuple"
   ]
  },
  {
   "cell_type": "markdown",
   "metadata": {},
   "source": [
    "1. Program to Find the Largest Number in a List:"
   ]
  },
  {
   "cell_type": "code",
   "execution_count": 2,
   "metadata": {},
   "outputs": [
    {
     "name": "stdout",
     "output_type": "stream",
     "text": [
      "Enter length of list: 5\n",
      "Enter item: 67\n",
      "Enter item: 45\n",
      "Enter item: 34\n",
      "Enter item: 2\n",
      "Enter item: 39\n",
      "67\n"
     ]
    }
   ],
   "source": [
    "def largest(lst):\n",
    "    lst = sorted(lst, reverse=True)\n",
    "    return lst[0]\n",
    "\n",
    "n = int(input('Enter length of list: '))\n",
    "lst = []\n",
    "for i in range(0,n):\n",
    "    item = int(input(\"Enter item: \"))\n",
    "    lst.append(item)\n",
    "    \n",
    "print(largest(lst))"
   ]
  },
  {
   "cell_type": "markdown",
   "metadata": {},
   "source": [
    "2. Program to Put Even and Odd elements in a List into Two Different Lists:"
   ]
  },
  {
   "cell_type": "code",
   "execution_count": 4,
   "metadata": {},
   "outputs": [
    {
     "name": "stdout",
     "output_type": "stream",
     "text": [
      "Enter length of list: 5\n",
      "Enter item: 23\n",
      "Enter item: 45\n",
      "Enter item: 2\n",
      "Enter item: 78\n",
      "Enter item: 3\n",
      "([2, 78], [23, 45, 3])\n"
     ]
    }
   ],
   "source": [
    "def even_odd_list(lst):\n",
    "    even = []\n",
    "    odd = []\n",
    "    for i in lst:\n",
    "        if(i%2 == 0):\n",
    "            even.append(i)\n",
    "        else:\n",
    "            odd.append(i)\n",
    "    return (even,odd)\n",
    "\n",
    "n = int(input('Enter length of list: '))\n",
    "lst = []\n",
    "for i in range(0,n):\n",
    "    item = int(input(\"Enter item: \"))\n",
    "    lst.append(item)\n",
    "    \n",
    "print(even_odd_list(lst))"
   ]
  },
  {
   "cell_type": "markdown",
   "metadata": {},
   "source": [
    "3. Program to Read a List of Words and Return the Length of the Longest One:"
   ]
  },
  {
   "cell_type": "code",
   "execution_count": null,
   "metadata": {},
   "outputs": [],
   "source": [
    "def longest_len(lst):\n",
    "    res_len = 0\n",
    "    res_str = ''\n",
    "    for i in lst:\n",
    "        if(len(i) > res_len):\n",
    "            res_len = len(i)\n",
    "            res_str = i\n",
    "    return (res_str, res_len)    \n",
    "\n",
    "n = int(input('Enter length of list: '))\n",
    "lst = []\n",
    "for i in range(0,n):\n",
    "    item = input(\"Enter item: \")\n",
    "    lst.append(item)\n",
    "    \n",
    "print(longest_len(lst))"
   ]
  },
  {
   "cell_type": "markdown",
   "metadata": {},
   "source": [
    "4. Create a List of Tuples with the First Element as the Number and Second Element as the Square of the Number:"
   ]
  },
  {
   "cell_type": "code",
   "execution_count": 9,
   "metadata": {},
   "outputs": [
    {
     "name": "stdout",
     "output_type": "stream",
     "text": [
      "Enter length of list: 5\n",
      "Enter item: 3\n",
      "Enter item: 4\n",
      "Enter item: 5\n",
      "Enter item: 6\n",
      "Enter item: 8\n",
      "[(3, 9), (4, 16), (5, 25), (6, 36), (8, 64)]\n"
     ]
    }
   ],
   "source": [
    "n = int(input('Enter length of list: '))\n",
    "lst = []\n",
    "for i in range(0,n):\n",
    "    item = int(input(\"Enter item: \"))\n",
    "    lst.append((item,item**2))\n",
    "\n",
    "print(lst)"
   ]
  },
  {
   "cell_type": "markdown",
   "metadata": {},
   "source": [
    "5. Program to Remove the Duplicate Items from a List: "
   ]
  },
  {
   "cell_type": "code",
   "execution_count": 26,
   "metadata": {},
   "outputs": [
    {
     "name": "stdout",
     "output_type": "stream",
     "text": [
      "Enter length of list: 5\n",
      "Enter item: 6\n",
      "Enter item: 5\n",
      "Enter item: 3\n",
      "Enter item: 6\n",
      "Enter item: 5\n",
      "[6, 5, 3]\n"
     ]
    }
   ],
   "source": [
    "def remove_duplicates(lst):\n",
    "    res=[]\n",
    "    f=0\n",
    "    for i in range(0, len(lst)):\n",
    "        f=0\n",
    "        for j in range(0, len(lst)):\n",
    "            if((lst[i] == lst[j])):\n",
    "                if((i != j) and (lst[i] not in res)):\n",
    "                    res.append(lst[i])\n",
    "                    f=1\n",
    "        if((f==0) and (lst[i] not in res)):\n",
    "            res.append(lst[i])\n",
    "    return res\n",
    "\n",
    "n = int(input('Enter length of list: '))\n",
    "lst = []\n",
    "for i in range(0,n):\n",
    "    item = int(input(\"Enter item: \"))\n",
    "    lst.append(item)\n",
    "    \n",
    "print(remove_duplicates(lst))"
   ]
  },
  {
   "cell_type": "markdown",
   "metadata": {},
   "source": [
    "6. WAP to check if this tuple (20, 20, 30, 30, 30, 40, 40, 40, 10) is in ascending/ descending or in random order without inbuilt function."
   ]
  },
  {
   "cell_type": "code",
   "execution_count": 66,
   "metadata": {},
   "outputs": [
    {
     "name": "stdout",
     "output_type": "stream",
     "text": [
      "Random\n"
     ]
    }
   ],
   "source": [
    "# n = int(input('Enter length of tuple: '))\n",
    "# tup = []\n",
    "# for i in range(0,n):\n",
    "#     item = int(input(\"Enter item: \"))\n",
    "#     tup.append(item)\n",
    "tup = (20, 20, 30, 30, 30, 40, 40, 40, 10)\n",
    "#print(len(tup))\n",
    "f1=0\n",
    "f2=0\n",
    "cnt1 = 0\n",
    "cnt2 = 0\n",
    "for i in range(0, len(tup)-1):\n",
    "    if(tup[i] <= tup[i+1]):\n",
    "        f1 = 1\n",
    "        cnt1 = cnt1+1\n",
    "    else:\n",
    "        f1=0\n",
    "\n",
    "if(f1 == 1 and cnt1 == len(tup)-1):\n",
    "    print(\"Ascending\")\n",
    "else:\n",
    "    for i in range(0, len(tup)-1):\n",
    "        if(tup[i] >= tup[i+1]):\n",
    "            f2 = 2\n",
    "            cnt2 = cnt2+1\n",
    "        else:\n",
    "            f2=0\n",
    "\n",
    "    if(f2 == 2 and cnt2 == len(tup)-1):\n",
    "        print(\"Descending\")\n",
    "\n",
    "    else:\n",
    "        print(\"Random\")"
   ]
  },
  {
   "cell_type": "markdown",
   "metadata": {},
   "source": [
    "# Dictionary"
   ]
  },
  {
   "cell_type": "markdown",
   "metadata": {},
   "source": [
    "1. Program to Check if a Given Key Exists in a Dictionary or Not:"
   ]
  },
  {
   "cell_type": "code",
   "execution_count": 45,
   "metadata": {},
   "outputs": [
    {
     "name": "stdout",
     "output_type": "stream",
     "text": [
      "Enter length of dictionary: 3\n",
      "Enter key: a\n",
      "Enter key and value seperated by ':'  d:34\n",
      "Enter key and value seperated by ':'  a:23\n",
      "Enter key and value seperated by ':'  c:10\n",
      "Key Exists\n"
     ]
    }
   ],
   "source": [
    "n = int(input('Enter length of dictionary: '))\n",
    "k = input(\"Enter key: \")\n",
    "d = {}\n",
    "for i in range(0,n):\n",
    "    data = input(\"Enter key and value seperated by ':'  \")\n",
    "    temp = data.split(':')\n",
    "    d[temp[0]]=temp[1]\n",
    "\n",
    "#print(d)\n",
    "f=0\n",
    "for i in d.keys():\n",
    "    if(k==i):\n",
    "        print(\"Key Exists\")\n",
    "        f=1\n",
    "        break\n",
    "if(f==0):\n",
    "    print(\"Key doesn't exist\")"
   ]
  },
  {
   "cell_type": "markdown",
   "metadata": {},
   "source": [
    "2. Program to Sum All the Items in a Dictionary:"
   ]
  },
  {
   "cell_type": "code",
   "execution_count": 47,
   "metadata": {},
   "outputs": [
    {
     "name": "stdout",
     "output_type": "stream",
     "text": [
      "Enter length of dictionary: 3\n",
      "Enter key and value seperated by ':'  a:12\n",
      "Enter key and value seperated by ':'  b:23\n",
      "Enter key and value seperated by ':'  c:10\n",
      "The sum is 45\n"
     ]
    }
   ],
   "source": [
    "n = int(input('Enter length of dictionary: '))\n",
    "d = {}\n",
    "for i in range(0,n):\n",
    "    data = input(\"Enter key and value seperated by ':'  \")\n",
    "    temp = data.split(':')\n",
    "    d[temp[0]]=int(temp[1])\n",
    "s=0    \n",
    "for i in d.values():\n",
    "    s = s+i\n",
    "print(\"The sum is {}\".format(s))"
   ]
  },
  {
   "cell_type": "markdown",
   "metadata": {},
   "source": [
    "3. Program to Remove the Given Key from a Dictionary:"
   ]
  },
  {
   "cell_type": "code",
   "execution_count": 48,
   "metadata": {},
   "outputs": [
    {
     "name": "stdout",
     "output_type": "stream",
     "text": [
      "Enter length of dictionary: 3\n",
      "Enter key to remove: a\n",
      "Enter key and value seperated by ':'  a:10\n",
      "Enter key and value seperated by ':'  b:34\n",
      "Enter key and value seperated by ':'  c:56\n",
      "Before:\n",
      "{'a': 10, 'b': 34, 'c': 56}\n",
      "After: \n",
      "{'b': 34, 'c': 56}\n"
     ]
    }
   ],
   "source": [
    "n = int(input('Enter length of dictionary: '))\n",
    "k = input(\"Enter key to remove: \")\n",
    "d = {}\n",
    "for i in range(0,n):\n",
    "    data = input(\"Enter key and value seperated by ':'  \")\n",
    "    temp = data.split(':')\n",
    "    d[temp[0]]=int(temp[1])\n",
    "    \n",
    "print(\"Before:\")    \n",
    "print(d)\n",
    "\n",
    "for i in d.keys():\n",
    "     if(k==i):\n",
    "            d.pop(k)\n",
    "            break\n",
    "print(\"After: \")\n",
    "print(d)"
   ]
  },
  {
   "cell_type": "markdown",
   "metadata": {},
   "source": [
    "4. Write a Python program to iterate over dictionaries using for loops:"
   ]
  },
  {
   "cell_type": "code",
   "execution_count": 49,
   "metadata": {},
   "outputs": [
    {
     "name": "stdout",
     "output_type": "stream",
     "text": [
      "Enter length of dictionary: 4\n",
      "Enter key and value seperated by ':'  a:10\n",
      "Enter key and value seperated by ':'  b:45\n",
      "Enter key and value seperated by ':'  c:78\n",
      "Enter key and value seperated by ':'  d:34\n",
      "a-->10\n",
      "b-->45\n",
      "c-->78\n",
      "d-->34\n"
     ]
    }
   ],
   "source": [
    "n = int(input('Enter length of dictionary: '))\n",
    "d = {}\n",
    "for i in range(0,n):\n",
    "    data = input(\"Enter key and value seperated by ':'  \")\n",
    "    temp = data.split(':')\n",
    "    d[temp[0]]=int(temp[1])\n",
    "\n",
    "for k,v in d.items():\n",
    "     print(\"{}-->{}\".format(k,v))"
   ]
  },
  {
   "cell_type": "markdown",
   "metadata": {},
   "source": [
    "5. Write a Python program to sort a dictionary by key:"
   ]
  },
  {
   "cell_type": "code",
   "execution_count": 51,
   "metadata": {},
   "outputs": [
    {
     "name": "stdout",
     "output_type": "stream",
     "text": [
      "Enter length of dictionary: 4\n",
      "Enter key and value seperated by ':'  d:34\n",
      "Enter key and value seperated by ':'  c:23\n",
      "Enter key and value seperated by ':'  z:22\n",
      "Enter key and value seperated by ':'  a:34\n",
      "('a', 34)\n",
      "('c', 23)\n",
      "('d', 34)\n",
      "('z', 22)\n"
     ]
    }
   ],
   "source": [
    "n = int(input('Enter length of dictionary: '))\n",
    "d = {}\n",
    "for i in range(0,n):\n",
    "    data = input(\"Enter key and value seperated by ':'  \")\n",
    "    temp = data.split(':')\n",
    "    d[temp[0]]=int(temp[1])\n",
    "    \n",
    "p = sorted(d.keys())\n",
    "\n",
    "for i in p:\n",
    "     print((i,d[i]))"
   ]
  },
  {
   "cell_type": "markdown",
   "metadata": {},
   "source": [
    "## Set"
   ]
  },
  {
   "cell_type": "markdown",
   "metadata": {},
   "source": [
    "1. Python Program to Count the Number of Vowels Present in a String using Sets:"
   ]
  },
  {
   "cell_type": "code",
   "execution_count": 2,
   "metadata": {},
   "outputs": [
    {
     "name": "stdout",
     "output_type": "stream",
     "text": [
      "Enter string: Shivani Agrawal\n",
      "6\n"
     ]
    }
   ],
   "source": [
    "s = input(\"Enter string: \")\n",
    "vowel = set(\"aeiouAEIOU\") \n",
    "#print(vowel)\n",
    "c=0\n",
    "for i in s:\n",
    "    if(i in vowel):\n",
    "        c = c+1\n",
    "print(c)"
   ]
  },
  {
   "cell_type": "markdown",
   "metadata": {},
   "source": [
    "2. Python Program to Check Common Letters in Two Input Strings:"
   ]
  },
  {
   "cell_type": "code",
   "execution_count": 5,
   "metadata": {},
   "outputs": [
    {
     "name": "stdout",
     "output_type": "stream",
     "text": [
      "Enter first string: Sakshi\n",
      "Enter second string: Shivani\n",
      "{'s', 'a', 'i', 'h'}\n"
     ]
    }
   ],
   "source": [
    "s1 = input(\"Enter first string: \")\n",
    "s2 = input(\"Enter second string: \")\n",
    "s1 = set(s1.lower())\n",
    "s2 = set(s2.lower())\n",
    "print(s1.intersection(s2))"
   ]
  },
  {
   "cell_type": "markdown",
   "metadata": {},
   "source": [
    "3. Python Program that displays which Letters are in the First String but not in the Second:"
   ]
  },
  {
   "cell_type": "code",
   "execution_count": 7,
   "metadata": {},
   "outputs": [
    {
     "name": "stdout",
     "output_type": "stream",
     "text": [
      "Enter first string: SahildxWJK\n",
      "Enter second string: SAKSHI\n",
      "{'w', 'x', 'd', 'l', 'j'}\n"
     ]
    }
   ],
   "source": [
    "s1 = input(\"Enter first string: \")\n",
    "s2 = input(\"Enter second string: \")\n",
    "s1 = set(s1.lower())\n",
    "s2 = set(s2.lower())\n",
    "print(s1-s2)"
   ]
  },
  {
   "cell_type": "markdown",
   "metadata": {},
   "source": [
    "4. Python Program that displays which Letters are Present in Both the Strings:"
   ]
  },
  {
   "cell_type": "code",
   "execution_count": 8,
   "metadata": {},
   "outputs": [
    {
     "name": "stdout",
     "output_type": "stream",
     "text": [
      "Enter first string: Sakshi\n",
      "Enter second string: Sahivani\n",
      "{'s', 'a', 'i', 'h'}\n"
     ]
    }
   ],
   "source": [
    "s1 = input(\"Enter first string: \")\n",
    "s2 = input(\"Enter second string: \")\n",
    "s1 = set(s1.lower())\n",
    "s2 = set(s2.lower())\n",
    "print(s1.intersection(s2))"
   ]
  },
  {
   "cell_type": "markdown",
   "metadata": {},
   "source": [
    "5. Python Program that displays which Letters are in the Two Strings but not in both:"
   ]
  },
  {
   "cell_type": "code",
   "execution_count": 19,
   "metadata": {},
   "outputs": [
    {
     "name": "stdout",
     "output_type": "stream",
     "text": [
      "Enter first string: shivani\n",
      "Enter second string: Sakshi\n",
      "{'v', 'k', 'n'}\n"
     ]
    }
   ],
   "source": [
    "s1 = input(\"Enter first string: \")\n",
    "s2 = input(\"Enter second string: \")\n",
    "s1 = set(s1.lower())\n",
    "s2 = set(s2.lower())\n",
    "q=s1.intersection(s2)\n",
    "s1.update(s2)\n",
    "print(s1-q)"
   ]
  },
  {
   "cell_type": "markdown",
   "metadata": {},
   "source": [
    "## List comprehension & list generator"
   ]
  },
  {
   "cell_type": "markdown",
   "metadata": {},
   "source": [
    "1. WAP to add elements of the two lists:"
   ]
  },
  {
   "cell_type": "code",
   "execution_count": 27,
   "metadata": {},
   "outputs": [
    {
     "name": "stdout",
     "output_type": "stream",
     "text": [
      "List1 ->  [1, 2, 4, 5, 6]\n",
      "List2 ->  [7, 8, 9, 2, 1, 8, 9, 20]\n",
      "Result ->  [8, 10, 13, 7, 7, 8, 9, 20]\n"
     ]
    }
   ],
   "source": [
    "#Taking into consideration that lists cab ne of different length\n",
    "list1 = [1,2,4,5,6]\n",
    "list2 = [7,8,9,2,1,8,9,20]\n",
    "\n",
    "def add_lists(list1, list2):\n",
    "    #print(list1 + list2)\n",
    "    len1 = len(list1)\n",
    "    len2 = len(list2)\n",
    "    if(len1 < len2):\n",
    "        length = len1\n",
    "    else:\n",
    "        length = len2\n",
    "\n",
    "    sum_list = []\n",
    "    for i in range(0,length):\n",
    "        temp = list1[i] + list2[i] \n",
    "        sum_list.append(temp)\n",
    "\n",
    "    if(length == len1):\n",
    "        x = list(map(int, list2[length:]))\n",
    "        for i in x:\n",
    "            sum_list.append(i)\n",
    "\n",
    "    else:\n",
    "        x = list(map(int, list1[length:]))\n",
    "        for i in x:\n",
    "            sum_list.append(i)\n",
    "\n",
    "    print(\"List1 -> \", list1)\n",
    "    print(\"List2 -> \", list2)\n",
    "    print(\"Result -> \", sum_list)\n",
    "\n",
    "add_lists(list1, list2)"
   ]
  },
  {
   "cell_type": "markdown",
   "metadata": {},
   "source": [
    "Question 2 and 3 weren't clear but assuming we need to perform list addition on them as well, \n",
    "\n",
    "2. List1 = [6,9,7,5,10]\n",
    "3. List2 = [10,20,30,50,7]"
   ]
  },
  {
   "cell_type": "code",
   "execution_count": 28,
   "metadata": {},
   "outputs": [
    {
     "name": "stdout",
     "output_type": "stream",
     "text": [
      "List1 ->  [6, 9, 7, 5, 10]\n",
      "List2 ->  [10, 20, 30, 50, 7]\n",
      "Result ->  [16, 29, 37, 55, 17]\n"
     ]
    }
   ],
   "source": [
    "List1 = [6,9,7,5,10]\n",
    "List2 = [10,20,30,50,7]\n",
    "add_lists(List1, List2)"
   ]
  },
  {
   "cell_type": "markdown",
   "metadata": {},
   "source": [
    "4. WAP to add square root of the list elements: [5,7,9,10,11]"
   ]
  },
  {
   "cell_type": "code",
   "execution_count": 31,
   "metadata": {},
   "outputs": [
    {
     "name": "stdout",
     "output_type": "stream",
     "text": [
      "[7.24, 9.65, 12.0, 13.16, 14.32]\n"
     ]
    }
   ],
   "source": [
    "list1 = [5,7,9,10,11]\n",
    "\n",
    "res = [round(i+i**0.5, 2) for i in list1]\n",
    "print(res)"
   ]
  },
  {
   "cell_type": "markdown",
   "metadata": {},
   "source": [
    "5. WAP to create 2’s multiplication table."
   ]
  },
  {
   "cell_type": "code",
   "execution_count": 35,
   "metadata": {},
   "outputs": [
    {
     "name": "stdout",
     "output_type": "stream",
     "text": [
      "Enter length: 20\n",
      "[2, 4, 6, 8, 10, 12, 14, 16, 18]\n"
     ]
    }
   ],
   "source": [
    "n = int(input(\"Enter length: \"))\n",
    "\n",
    "res = [i for i in range(2,n,2)]\n",
    "print(res)"
   ]
  },
  {
   "cell_type": "markdown",
   "metadata": {},
   "source": [
    "6. WAP to return lower case version of list of characters of the string given by a user"
   ]
  },
  {
   "cell_type": "code",
   "execution_count": 36,
   "metadata": {},
   "outputs": [
    {
     "name": "stdout",
     "output_type": "stream",
     "text": [
      "Enter string: Shivani Agrawal\n",
      "['s', 'h', 'i', 'v', 'a', 'n', 'i', ' ', 'a', 'g', 'r', 'a', 'w', 'a', 'l']\n"
     ]
    }
   ],
   "source": [
    "str1 = input(\"Enter string: \")\n",
    "\n",
    "res = [i.lower() for i in str1]\n",
    "print(res)"
   ]
  },
  {
   "cell_type": "code",
   "execution_count": null,
   "metadata": {},
   "outputs": [],
   "source": []
  }
 ],
 "metadata": {
  "kernelspec": {
   "display_name": "Python 3",
   "language": "python",
   "name": "python3"
  },
  "language_info": {
   "codemirror_mode": {
    "name": "ipython",
    "version": 3
   },
   "file_extension": ".py",
   "mimetype": "text/x-python",
   "name": "python",
   "nbconvert_exporter": "python",
   "pygments_lexer": "ipython3",
   "version": "3.7.3"
  }
 },
 "nbformat": 4,
 "nbformat_minor": 2
}
