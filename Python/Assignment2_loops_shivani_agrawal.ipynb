{
 "cells": [
  {
   "cell_type": "markdown",
   "metadata": {},
   "source": [
    "1)W. A P. which takes one number from 0 to 9 from the user and prints it in the word. And if the word is not from 0 to 9 then\n",
    "it should print that number is outside of the range and program should exit.\n",
    "\n",
    "For example:-\n",
    "\n",
    "input = 1\n",
    "\n",
    "output = one"
   ]
  },
  {
   "cell_type": "code",
   "execution_count": 3,
   "metadata": {},
   "outputs": [
    {
     "name": "stdout",
     "output_type": "stream",
     "text": [
      "Enter the number: 2\n",
      "two\n"
     ]
    }
   ],
   "source": [
    "n = int(input(\"Enter the number: \"))\n",
    "\n",
    "if(n == 0):\n",
    "    print(\"zero\")\n",
    "elif(n == 1):\n",
    "    print(\"one\")\n",
    "elif(n == 2):\n",
    "    print(\"two\")\n",
    "elif(n == 3):\n",
    "    print(\"three\")\n",
    "elif(n == 4):\n",
    "    print(\"four\")\n",
    "elif(n == 5):\n",
    "    print(\"five\")\n",
    "elif(n == 6):\n",
    "    print(\"six\")\n",
    "elif(n == 7):\n",
    "    print(\"seven\")\n",
    "elif(n == 8):\n",
    "    print(\"eight\")\n",
    "elif(n == 9):\n",
    "    print(\"nine\")\n",
    "else:\n",
    "    print(\"Number is outside of the range!\")"
   ]
  },
  {
   "cell_type": "markdown",
   "metadata": {},
   "source": [
    "2)W. A P. to implement calculator but the operation to be done and two\n",
    "numbers will be taken as input from user:-\n",
    "Operation console should show below:-\n",
    "Please select any one operation from below:-\n",
    "* To add enter 1\n",
    "* to subtract enter 2\n",
    "* To multiply enter 3\n",
    "* To divide enter 4\n",
    "* To divide and find quotient enter 5\n",
    "* To divide and find remainder enter 6\n",
    "* To divide and find num1 to the power of num2 enter 7\n",
    "* To Come out of the program enter 8"
   ]
  },
  {
   "cell_type": "code",
   "execution_count": 16,
   "metadata": {},
   "outputs": [
    {
     "name": "stdout",
     "output_type": "stream",
     "text": [
      "Enter the operation: 8\n",
      "Enter first number: 1\n",
      "Enter second number: 2\n",
      "Exited!\n"
     ]
    }
   ],
   "source": [
    "op = int(input(\"Enter the operation: \"))\n",
    "n1 = int(input(\"Enter first number: \"))\n",
    "n2 = int(input(\"Enter second number: \"))\n",
    "\n",
    "if(op==1):\n",
    "    print(n1+n2)\n",
    "elif(op==2):\n",
    "    print(n1-n2)\n",
    "elif(op==3):\n",
    "    print(n1*n2)\n",
    "elif(op==4):\n",
    "    if(n2!=0):\n",
    "        print(n1/n2)\n",
    "    else:\n",
    "        print(\"please enter a valid number!\")\n",
    "elif(op==5):\n",
    "    if(n2!=0):\n",
    "        print(n1//n2)\n",
    "    else:\n",
    "        print(\"please enter a valid number!\")\n",
    "elif(op==6):\n",
    "    if(n2!=0):\n",
    "        print(n1%n2)\n",
    "    else:\n",
    "        print(\"please enter a valid number!\")\n",
    "elif(op==7):\n",
    "    print(n1**n2)\n",
    "elif(op==8):\n",
    "    print(\"Exited!\")"
   ]
  },
  {
   "cell_type": "markdown",
   "metadata": {},
   "source": [
    "3)W A P to check whether a year entered by user is an leap year or not?\n",
    "\n",
    "Check with below input:-\n",
    "\n",
    "leap year:- 2012, 1968, 2004, 1200, 1600,2400\n",
    "\n",
    "Non-lear year:- 1971, 2006, 1700,1800,1900"
   ]
  },
  {
   "cell_type": "code",
   "execution_count": 20,
   "metadata": {},
   "outputs": [
    {
     "name": "stdout",
     "output_type": "stream",
     "text": [
      "Enter the year: 1971\n",
      "Not a leap year!\n"
     ]
    }
   ],
   "source": [
    "# A leap year is exactly divisible by 4 except for century years (years ending with 00).\n",
    "# The century year is a leap year only if it is perfectly divisible by 400. \n",
    "\n",
    "year = int(input(\"Enter the year: \"))\n",
    "\n",
    "if(year%4 == 0):\n",
    "    if(year%100 == 0):\n",
    "        if(year%400 == 0):\n",
    "            print(\"leap year!\")\n",
    "        else:\n",
    "            print(\"Not a leap year!\")\n",
    "    else:\n",
    "        print(\"leap year!\")\n",
    "else:\n",
    "    print(\"Not a leap year!\")"
   ]
  },
  {
   "cell_type": "markdown",
   "metadata": {},
   "source": [
    "4)W A P which takes one number from the user and checks whether it is an even or odd number?\n",
    "\n",
    "If it even then prints number is even number \n",
    "\n",
    "else prints that number is odd number."
   ]
  },
  {
   "cell_type": "code",
   "execution_count": 22,
   "metadata": {},
   "outputs": [
    {
     "name": "stdout",
     "output_type": "stream",
     "text": [
      "Enter number: 4\n",
      "4 is even number!\n"
     ]
    }
   ],
   "source": [
    "n = int(input(\"Enter number: \"))\n",
    "\n",
    "if(n%2 == 0):\n",
    "    print(\"{} is even number!\".format(n))\n",
    "else:\n",
    "    print(\"{} is odd number!\".format(n))"
   ]
  },
  {
   "cell_type": "markdown",
   "metadata": {},
   "source": [
    "5)W A P which takes two numbers from the user and prints below output:-\n",
    "1. num1 is greater than num2 if num1 is greater than num2\n",
    "2. num1 is smaller than num2 if num1 is smaller than num2\n",
    "3. num1 is equal to num2 if num1 and num2 are equal\n",
    "\n",
    "Note:- \n",
    "1. Do this problem using if - else\n",
    "2. Do this using ternary operator"
   ]
  },
  {
   "cell_type": "code",
   "execution_count": 26,
   "metadata": {},
   "outputs": [
    {
     "name": "stdout",
     "output_type": "stream",
     "text": [
      "Enter first number: 6\n",
      "Enter second number: 4\n",
      "num1 is greater than num2\n"
     ]
    }
   ],
   "source": [
    "#using if-else\n",
    "num1 = int(input(\"Enter first number: \"))\n",
    "num2 = int(input(\"Enter second number: \"))\n",
    "\n",
    "if(num1 > num2):\n",
    "    print(\"num1 is greater than num2\")\n",
    "elif(num1 < num2):\n",
    "    print(\"num1 is smaller than num2\")\n",
    "else:\n",
    "    print(\"num1 is equal to than num2\")"
   ]
  },
  {
   "cell_type": "code",
   "execution_count": 31,
   "metadata": {},
   "outputs": [
    {
     "name": "stdout",
     "output_type": "stream",
     "text": [
      "Enter first number: 3\n",
      "Enter second number: 1\n",
      "num1 is greater than num2\n"
     ]
    }
   ],
   "source": [
    "#using ternary operator\n",
    "num1 = int(input(\"Enter first number: \"))\n",
    "num2 = int(input(\"Enter second number: \"))\n",
    "\n",
    "print(\"num1 is equal to num2\" if(num1 == num2) else \"num1 is greater than num2\" if num1 > num2 else \"num1 is smaller than num2\")"
   ]
  },
  {
   "cell_type": "markdown",
   "metadata": {},
   "source": [
    "6)W A P which takes three numbers from the user and prints below\n",
    "output:-\n",
    "1. num1 is greater than num2 and num3 if num1 is greater than num2\n",
    "and num3\n",
    "2. num2 is greater than num1 and num3 if num2 is greater than num1\n",
    "and num3\n",
    "\n",
    "3. num3 is greater than num1 and num2 if num3 is greater than num1\n",
    "and num2\n",
    "Note:-\n",
    "1. Do this problem using if - elif - else\n",
    "2. Do this using ternary operator\n",
    "\n",
    "a = a if a>b else b"
   ]
  },
  {
   "cell_type": "code",
   "execution_count": 33,
   "metadata": {},
   "outputs": [
    {
     "name": "stdout",
     "output_type": "stream",
     "text": [
      "First number: 5\n",
      "Second number: 6\n",
      "Third number: 3\n",
      "num2 is greater than num1 and num3\n"
     ]
    }
   ],
   "source": [
    "#using if-else\n",
    "num1 = int(input(\"First number: \"))\n",
    "num2 = int(input(\"Second number: \"))\n",
    "num3 = int(input(\"Third number: \"))\n",
    "\n",
    "if(num1 > num2 and num1 > num3):\n",
    "    print(\"num1 is greater than num2 and num3\")\n",
    "elif(num1 < num2 and num3 < num2):\n",
    "    print(\"num2 is greater than num1 and num3\")\n",
    "elif(num1 < num3 and num2 < num3):\n",
    "    print(\"num3 is greater than num1 and num2\")\n",
    "    "
   ]
  },
  {
   "cell_type": "code",
   "execution_count": 41,
   "metadata": {},
   "outputs": [
    {
     "name": "stdout",
     "output_type": "stream",
     "text": [
      "First number: 5\n",
      "Second number: 6\n",
      "Third number: 3\n",
      "num2 is greater than num1 and num3\n"
     ]
    }
   ],
   "source": [
    "#using ternary operator\n",
    "num1 = int(input(\"First number: \"))\n",
    "num2 = int(input(\"Second number: \"))\n",
    "num3 = int(input(\"Third number: \"))\n",
    "print(\"num1 is greater than num2 and num3\" if(num1 > num2 and num1 > num3) else \"num2 is greater than num1 and num3\" if(num1 < num2 and num3 < num2) else \"num3 is greater than num1 and num2\" )"
   ]
  },
  {
   "cell_type": "markdown",
   "metadata": {},
   "source": [
    "## Loops - for loop, while loop"
   ]
  },
  {
   "cell_type": "markdown",
   "metadata": {},
   "source": [
    "1)Write a Python program to find the length of the my_str using loop:-\n",
    "\n",
    "Input:- 'Write a Python program to find the length of the my_str'\n",
    "\n",
    "Output:- 55"
   ]
  },
  {
   "cell_type": "code",
   "execution_count": 34,
   "metadata": {},
   "outputs": [
    {
     "name": "stdout",
     "output_type": "stream",
     "text": [
      "Write a Python program to find the length of the my_str\n",
      "55\n"
     ]
    }
   ],
   "source": [
    "my_str = input()\n",
    "c=0\n",
    "for i in my_str:\n",
    "    c = c+1\n",
    "print(c)"
   ]
  },
  {
   "cell_type": "markdown",
   "metadata": {},
   "source": [
    "2)Write a Python program to find the total number of times letter 'p' is appeared in the below string using loop:-\n",
    "\n",
    "Input:- 'peter piper picked a peck of pickled peppers.\\n'\n",
    "\n",
    "Output:- 9"
   ]
  },
  {
   "cell_type": "code",
   "execution_count": 35,
   "metadata": {},
   "outputs": [
    {
     "name": "stdout",
     "output_type": "stream",
     "text": [
      "peter piper picked a peck of pickled peppers.\\n\n",
      "9\n"
     ]
    }
   ],
   "source": [
    "my_str = input()\n",
    "c=0\n",
    "for i in my_str:\n",
    "    if(i=='p'):\n",
    "        c = c+1\n",
    "print(c)"
   ]
  },
  {
   "cell_type": "markdown",
   "metadata": {},
   "source": [
    "3)Write a Python Program, to print all the indexes of all occurences of letter 'p' appeared in the string using loop:-\n",
    "\n",
    "Input:- 'peter piper picked a peck of pickled peppers.'\n",
    "\n",
    "Output:-\n",
    "0\n",
    "6\n",
    "8\n",
    "12\n",
    "21\n",
    "29\n",
    "37\n",
    "39\n",
    "40"
   ]
  },
  {
   "cell_type": "code",
   "execution_count": 36,
   "metadata": {},
   "outputs": [
    {
     "name": "stdout",
     "output_type": "stream",
     "text": [
      "peter piper picked a peck of pickled peppers.\n",
      "0\n",
      "6\n",
      "8\n",
      "12\n",
      "21\n",
      "29\n",
      "37\n",
      "39\n",
      "40\n"
     ]
    }
   ],
   "source": [
    "my_str = input()\n",
    "for i in range(0,len(my_str)):\n",
    "    if(my_str[i] == 'p'):\n",
    "        print(i)"
   ]
  },
  {
   "cell_type": "markdown",
   "metadata": {},
   "source": [
    "4)Write a python program to find below output using loop:-\n",
    "\n",
    "Input:- 'peter piper picked a peck of pickled peppers.'\n",
    "\n",
    "Output:- ['peter', 'piper', 'picked', 'a', 'peck', 'of', 'pickled', 'peppers']"
   ]
  },
  {
   "cell_type": "code",
   "execution_count": 38,
   "metadata": {},
   "outputs": [
    {
     "name": "stdout",
     "output_type": "stream",
     "text": [
      "peter piper picked a peck of pickled peppers.\n",
      "['peter', 'piper', 'picked', 'a', 'peck', 'of', 'pickled', 'peppers.']\n"
     ]
    }
   ],
   "source": [
    "my_str = input()\n",
    "lst = []\n",
    "for word in my_str.split():\n",
    "    lst.append(word)\n",
    "print(lst)"
   ]
  },
  {
   "cell_type": "markdown",
   "metadata": {},
   "source": [
    "5)Write a python program to find below output using loop:-\n",
    "\n",
    "Input:- 'peter piper picked a peck of pickled peppers.'\n",
    "\n",
    "Output:- 'peppers pickled of peck a picked piper peter'"
   ]
  },
  {
   "cell_type": "code",
   "execution_count": 48,
   "metadata": {},
   "outputs": [
    {
     "name": "stdout",
     "output_type": "stream",
     "text": [
      "peter piper picked a peck of pickled peppers.\n",
      "['peppers.', 'pickled', 'of', 'peck', 'a', 'picked', 'piper', 'peter']\n"
     ]
    }
   ],
   "source": [
    "my_str = input()\n",
    "lst = my_str.split()\n",
    "rev = []\n",
    "for i in range(len(lst)-1, -1, -1):\n",
    "    rev.append(lst[i])\n",
    "    \n",
    "print(rev)"
   ]
  },
  {
   "cell_type": "markdown",
   "metadata": {},
   "source": [
    "6)Write a python program to find below output using loop:-\n",
    "\n",
    "Input:- 'peter piper picked a peck of pickled peppers.'\n",
    "\n",
    "Output:- '.sreppep delkcip fo kcep a dekcip repip retep'"
   ]
  },
  {
   "cell_type": "code",
   "execution_count": 49,
   "metadata": {},
   "outputs": [
    {
     "name": "stdout",
     "output_type": "stream",
     "text": [
      "peter piper picked a peck of pickled peppers.\n",
      ".sreppep delkcip fo kcep a dekcip repip retep\n"
     ]
    }
   ],
   "source": [
    "my_str = input()\n",
    "rev = ''.join(reversed(my_str))\n",
    "    \n",
    "print(rev)"
   ]
  },
  {
   "cell_type": "markdown",
   "metadata": {},
   "source": [
    "7)Write a python program to find below output using loop:-\n",
    "\n",
    "Input:- 'peter piper picked a peck of pickled peppers.'\n",
    "\n",
    "Output:- 'retep repip dekcip a kcep fo delkcip sreppep'"
   ]
  },
  {
   "cell_type": "code",
   "execution_count": 58,
   "metadata": {},
   "outputs": [
    {
     "name": "stdout",
     "output_type": "stream",
     "text": [
      "peter piper picked a peck of pickled peppers.\n",
      "retep repip dekcip a kcep fo delkcip .sreppep\n"
     ]
    }
   ],
   "source": [
    "my_str = input()\n",
    "lst = []\n",
    "res=''\n",
    "for word in my_str.split():\n",
    "    lst.append(''.join(reversed(word)))\n",
    "\n",
    "print(' '.join(lst))"
   ]
  },
  {
   "cell_type": "markdown",
   "metadata": {},
   "source": [
    "8)Write a python program to find below output using loop:-\n",
    "\n",
    "Input:- 'peter piper picked a peck of pickled peppers.'\n",
    "\n",
    "Output:- 'Peter Piper Picked A Peck Of Pickled Peppers'"
   ]
  },
  {
   "cell_type": "code",
   "execution_count": 60,
   "metadata": {},
   "outputs": [
    {
     "name": "stdout",
     "output_type": "stream",
     "text": [
      "peter piper picked a peck of pickled peppers.\n",
      "Peter Piper Picked A Peck Of Pickled Peppers.\n"
     ]
    }
   ],
   "source": [
    "my_str = input()\n",
    "lst = []\n",
    "res=''\n",
    "for word in my_str.split():\n",
    "    s = ''.join(word[0].upper() + word[1:].lower())\n",
    "    lst.append(s)\n",
    "\n",
    "print(' '.join(lst))"
   ]
  },
  {
   "cell_type": "markdown",
   "metadata": {},
   "source": [
    "9)Write a python program to find below output using loop:-\n",
    "\n",
    "Input:- 'Peter Piper Picked A Peck Of Pickled Peppers.'\n",
    "\n",
    "Output:- 'Peter piper picked a peck of pickled peppers'"
   ]
  },
  {
   "cell_type": "code",
   "execution_count": 62,
   "metadata": {},
   "outputs": [
    {
     "name": "stdout",
     "output_type": "stream",
     "text": [
      "Peter Piper Picked A Peck Of Pickled Peppers.\n",
      "Peter piper picked a peck of pickled peppers.\n"
     ]
    }
   ],
   "source": [
    "my_str = input()\n",
    "print(my_str[0].upper() + my_str[1:].lower())\n",
    "\n",
    "#print(my_str)"
   ]
  },
  {
   "cell_type": "markdown",
   "metadata": {},
   "source": [
    "10)Write a python program to implement index method using loop. If sub_str is found in my_str then it will print the index\n",
    "of first occurrence of first character of matching string in my_str:-\n",
    "\n",
    "Input:- my_str = 'Peter Piper Picked A Peck Of Pickled Peppers.',\n",
    "\n",
    "sub_str = 'Pickl'\n",
    "\n",
    "Output:- 29"
   ]
  },
  {
   "cell_type": "code",
   "execution_count": 7,
   "metadata": {},
   "outputs": [
    {
     "name": "stdout",
     "output_type": "stream",
     "text": [
      "Enter string: Peter Piper Picked A Peck Of Pickled Peppers.\n",
      "Enter sub-string: Pickl\n",
      "29\n"
     ]
    }
   ],
   "source": [
    "my_str = input(\"Enter string: \")\n",
    "sub_str = input(\"Enter sub-string: \")\n",
    "f=0\n",
    "k=0\n",
    "for i in range(0, len(my_str)):\n",
    "    f = 0\n",
    "    k = i\n",
    "    for j in range(0, len(sub_str)):\n",
    "        if(my_str[k] != sub_str[j]):\n",
    "            f = 1\n",
    "        if(f == 1):\n",
    "            break\n",
    "        k = k + 1\n",
    "    if(f == 0):\n",
    "        print(i)\n",
    "        break\n"
   ]
  },
  {
   "cell_type": "markdown",
   "metadata": {},
   "source": [
    "11)Write a python program to implement replace method using loop. If sub_str is found in my_str then it will replace the first\n",
    "occurrence of sub_str with new_str else it will will print sub_str not found:-\n",
    "\n",
    "Input:- my_str = 'Peter Piper Picked A Peck Of Pickled Peppers.',\n",
    "\n",
    "sub_str = 'Peck', new_str = 'Pack'\n",
    "\n",
    "Output:- 'Peter Piper Picked A Pack Of Pickled Peppers.'"
   ]
  },
  {
   "cell_type": "code",
   "execution_count": 16,
   "metadata": {},
   "outputs": [
    {
     "name": "stdout",
     "output_type": "stream",
     "text": [
      "Enter string: Peter Piper Picked A Peck Of Pickled Peppers.\n",
      "Enter sub-string: Peck\n",
      "Enter new string: Pack\n",
      "Peter Piper Picked A Pack Of Pickled Peppers.\n"
     ]
    }
   ],
   "source": [
    "my_str = input(\"Enter string: \")\n",
    "sub_str = input(\"Enter sub-string: \")\n",
    "new_str = input(\"Enter new string: \")\n",
    "f=0\n",
    "k=0\n",
    "for i in range(0, len(my_str)):\n",
    "    f = 0\n",
    "    k = i\n",
    "    for j in range(0, len(sub_str)):\n",
    "        if(my_str[k] != sub_str[j]):\n",
    "            f = 1\n",
    "        if(f == 1):\n",
    "            break\n",
    "        k = k + 1\n",
    "    if(f == 0):\n",
    "        x = my_str[0:i] + new_str + my_str[i+len(new_str):]\n",
    "        print(x)\n",
    "        break\n",
    "if(f != 0):\n",
    "    print(\"sub_str not found\")"
   ]
  },
  {
   "cell_type": "markdown",
   "metadata": {},
   "source": [
    "12)Write a python program to find below output (implements rjust and ljust) using loop:-\n",
    "\n",
    "Input:- 'Peter Piper Picked A Peck Of Pickled Peppers.',  sub_str ='Peck',\n",
    "\n",
    "Output:- '*********************Peck********************'"
   ]
  },
  {
   "cell_type": "code",
   "execution_count": 28,
   "metadata": {},
   "outputs": [
    {
     "name": "stdout",
     "output_type": "stream",
     "text": [
      "Enter string: Peter Piper Picked A Peck Of Pickled Peppers.\n",
      "Enter sub-string: Peck\n",
      "*********************Peck********************\n"
     ]
    }
   ],
   "source": [
    "my_str = input(\"Enter string: \")\n",
    "sub_str = input(\"Enter sub-string: \")\n",
    "f=0\n",
    "k=0\n",
    "x=''\n",
    "for i in range(0, len(my_str)):\n",
    "    f = 0\n",
    "    k = i\n",
    "    for j in range(0, len(sub_str)):\n",
    "        if(my_str[k] != sub_str[j]):\n",
    "            f = 1\n",
    "        if(f == 1):\n",
    "            break\n",
    "        k = k + 1\n",
    "    if(f == 0):\n",
    "        for p in range(0, i):\n",
    "            x = x + '*'\n",
    "        x = x + sub_str \n",
    "        for p in range(i+len(sub_str), len(my_str)):\n",
    "            x = x + '*'\n",
    "        print(x)\n",
    "        break\n",
    "if(f != 0):\n",
    "    print(\"sub_str not found\")"
   ]
  },
  {
   "cell_type": "markdown",
   "metadata": {},
   "source": [
    "13)Write a python program to find below output using loop:-\n",
    "\n",
    "Input:- 'This is Python class', sep = ' is',\n",
    "\n",
    "Output:- ['This', 'is', 'Python class']"
   ]
  },
  {
   "cell_type": "code",
   "execution_count": 40,
   "metadata": {},
   "outputs": [
    {
     "name": "stdout",
     "output_type": "stream",
     "text": [
      "Enter string: This is Python class\n",
      "Enter separator: is\n",
      "['This', 'is', 'Python class']\n"
     ]
    }
   ],
   "source": [
    "my_str = input(\"Enter string: \")\n",
    "sep = input(\"Enter separator: \")\n",
    "f=0\n",
    "k=0\n",
    "lst = []\n",
    "for i in range(0, len(my_str)):\n",
    "    f = 0\n",
    "    k = i\n",
    "    for j in range(0, len(sep)):\n",
    "        if(my_str[k] != sep[j]):\n",
    "            f = 1\n",
    "        if(f == 1):\n",
    "            break\n",
    "        k = k + 1\n",
    "    if((f == 0) and (my_str[i-1] == ' ') and (my_str[i+len(sep)] == ' ')):\n",
    "        \n",
    "        lst.append((my_str[0:i]).rstrip())\n",
    "        lst.append(sep)\n",
    "        lst.append((my_str[i+len(sep):]).lstrip())\n",
    "        \n",
    "if(lst):\n",
    "    print(lst)\n",
    "else:\n",
    "    print(\"sep not found\")"
   ]
  },
  {
   "cell_type": "code",
   "execution_count": null,
   "metadata": {},
   "outputs": [],
   "source": []
  }
 ],
 "metadata": {
  "kernelspec": {
   "display_name": "Python 3",
   "language": "python",
   "name": "python3"
  },
  "language_info": {
   "codemirror_mode": {
    "name": "ipython",
    "version": 3
   },
   "file_extension": ".py",
   "mimetype": "text/x-python",
   "name": "python",
   "nbconvert_exporter": "python",
   "pygments_lexer": "ipython3",
   "version": "3.7.3"
  }
 },
 "nbformat": 4,
 "nbformat_minor": 2
}
